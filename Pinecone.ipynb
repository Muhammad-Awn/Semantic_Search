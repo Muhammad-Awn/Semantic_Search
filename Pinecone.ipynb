{
 "cells": [
  {
   "cell_type": "code",
   "execution_count": 9,
   "metadata": {},
   "outputs": [],
   "source": [
    "# %pip install sentence-transformers pinecone-datasets pandas pinecone-client flask flask_cors"
   ]
  },
  {
   "cell_type": "code",
   "execution_count": 2,
   "metadata": {},
   "outputs": [
    {
     "data": {
      "text/plain": [
       "'3.2.2'"
      ]
     },
     "execution_count": 2,
     "metadata": {},
     "output_type": "execute_result"
    }
   ],
   "source": [
    "import pinecone\n",
    "pinecone.__version__"
   ]
  },
  {
   "cell_type": "code",
   "execution_count": 10,
   "metadata": {},
   "outputs": [],
   "source": [
    "import pandas as pd\n",
    "dataset = pd.read_csv('E:\\Documents\\KYH\\Data\\Quran\\sahihinternational.csv')\n",
    "\n",
    "#remove index column\n",
    "#dataset = dataset.drop(columns=['Unnamed: 0'])"
   ]
  },
  {
   "cell_type": "code",
   "execution_count": 11,
   "metadata": {},
   "outputs": [
    {
     "name": "stdout",
     "output_type": "stream",
     "text": [
      "6236\n"
     ]
    },
    {
     "data": {
      "text/html": [
       "<div>\n",
       "<style scoped>\n",
       "    .dataframe tbody tr th:only-of-type {\n",
       "        vertical-align: middle;\n",
       "    }\n",
       "\n",
       "    .dataframe tbody tr th {\n",
       "        vertical-align: top;\n",
       "    }\n",
       "\n",
       "    .dataframe thead th {\n",
       "        text-align: right;\n",
       "    }\n",
       "</style>\n",
       "<table border=\"1\" class=\"dataframe\">\n",
       "  <thead>\n",
       "    <tr style=\"text-align: right;\">\n",
       "      <th></th>\n",
       "      <th>id</th>\n",
       "      <th>surah</th>\n",
       "      <th>verse</th>\n",
       "      <th>text</th>\n",
       "    </tr>\n",
       "  </thead>\n",
       "  <tbody>\n",
       "    <tr>\n",
       "      <th>0</th>\n",
       "      <td>1:1</td>\n",
       "      <td>1</td>\n",
       "      <td>1</td>\n",
       "      <td>In the name of Allah, the Entirely Merciful, t...</td>\n",
       "    </tr>\n",
       "    <tr>\n",
       "      <th>1</th>\n",
       "      <td>1:2</td>\n",
       "      <td>1</td>\n",
       "      <td>2</td>\n",
       "      <td>All praise is due to Allah, Lord of the worlds -</td>\n",
       "    </tr>\n",
       "    <tr>\n",
       "      <th>2</th>\n",
       "      <td>1:3</td>\n",
       "      <td>1</td>\n",
       "      <td>3</td>\n",
       "      <td>The Entirely Merciful, the Especially Merciful,</td>\n",
       "    </tr>\n",
       "    <tr>\n",
       "      <th>3</th>\n",
       "      <td>1:4</td>\n",
       "      <td>1</td>\n",
       "      <td>4</td>\n",
       "      <td>Sovereign of the Day of Recompense.</td>\n",
       "    </tr>\n",
       "    <tr>\n",
       "      <th>4</th>\n",
       "      <td>1:5</td>\n",
       "      <td>1</td>\n",
       "      <td>5</td>\n",
       "      <td>It is You we worship and You we ask for help.</td>\n",
       "    </tr>\n",
       "  </tbody>\n",
       "</table>\n",
       "</div>"
      ],
      "text/plain": [
       "    id  surah  verse                                               text\n",
       "0  1:1      1      1  In the name of Allah, the Entirely Merciful, t...\n",
       "1  1:2      1      2   All praise is due to Allah, Lord of the worlds -\n",
       "2  1:3      1      3    The Entirely Merciful, the Especially Merciful,\n",
       "3  1:4      1      4                Sovereign of the Day of Recompense.\n",
       "4  1:5      1      5      It is You we worship and You we ask for help."
      ]
     },
     "execution_count": 11,
     "metadata": {},
     "output_type": "execute_result"
    }
   ],
   "source": [
    "print(len(dataset))\n",
    "dataset.head()"
   ]
  },
  {
   "cell_type": "code",
   "execution_count": 12,
   "metadata": {},
   "outputs": [
    {
     "data": {
      "text/plain": [
       "0    In the name of Allah, the Entirely Merciful, t...\n",
       "1     All praise is due to Allah, Lord of the worlds -\n",
       "2      The Entirely Merciful, the Especially Merciful,\n",
       "3                  Sovereign of the Day of Recompense.\n",
       "4        It is You we worship and You we ask for help.\n",
       "Name: text, dtype: object"
      ]
     },
     "execution_count": 12,
     "metadata": {},
     "output_type": "execute_result"
    }
   ],
   "source": [
    "df = dataset['text'].copy()\n",
    "\n",
    "df.head()"
   ]
  },
  {
   "cell_type": "code",
   "execution_count": 13,
   "metadata": {},
   "outputs": [
    {
     "data": {
      "text/plain": [
       "70    Then you turned away after that. And if not fo...\n",
       "71    And you had already known about those who tran...\n",
       "72    And We made it a deterrent punishment for thos...\n",
       "73    And recall when Moses said to his people, \"Ind...\n",
       "74    They said, \"Call upon your Lord to make clear ...\n",
       "75    They said, \"Call upon your Lord to show us wha...\n",
       "76    They said, \"Call upon your Lord to make clear ...\n",
       "77    He said, \"He says, 'It is a cow neither traine...\n",
       "78    And recall when you slew a man and disputed ov...\n",
       "79    So, We said, \"Strike the slain man with part o...\n",
       "Name: text, dtype: object"
      ]
     },
     "execution_count": 13,
     "metadata": {},
     "output_type": "execute_result"
    }
   ],
   "source": [
    "df[70:80]"
   ]
  },
  {
   "cell_type": "code",
   "execution_count": 14,
   "metadata": {},
   "outputs": [],
   "source": [
    "# df = df.str[:255]\n",
    "\n",
    "df.reset_index(drop=True, inplace=True)"
   ]
  },
  {
   "cell_type": "code",
   "execution_count": 15,
   "metadata": {},
   "outputs": [
    {
     "name": "stdout",
     "output_type": "stream",
     "text": [
      "You are using cpu. This is much slower than using a CUDA-enabled GPU. If on Colab you can change this by clicking Runtime > Change runtime type > GPU.\n"
     ]
    },
    {
     "name": "stderr",
     "output_type": "stream",
     "text": [
      "e:\\Documents\\KYH\\Semantic_Search\\.venv\\lib\\site-packages\\huggingface_hub\\file_download.py:1132: FutureWarning: `resume_download` is deprecated and will be removed in version 1.0.0. Downloads always resume when possible. If you want to force a new download, use `force_download=True`.\n",
      "  warnings.warn(\n"
     ]
    },
    {
     "data": {
      "text/plain": [
       "SentenceTransformer(\n",
       "  (0): Transformer({'max_seq_length': 256, 'do_lower_case': False}) with Transformer model: BertModel \n",
       "  (1): Pooling({'word_embedding_dimension': 384, 'pooling_mode_cls_token': False, 'pooling_mode_mean_tokens': True, 'pooling_mode_max_tokens': False, 'pooling_mode_mean_sqrt_len_tokens': False, 'pooling_mode_weightedmean_tokens': False, 'pooling_mode_lasttoken': False, 'include_prompt': True})\n",
       "  (2): Normalize()\n",
       ")"
      ]
     },
     "execution_count": 15,
     "metadata": {},
     "output_type": "execute_result"
    }
   ],
   "source": [
    "from sentence_transformers import SentenceTransformer\n",
    "import torch\n",
    "\n",
    "device = 'cuda' if torch.cuda.is_available() else 'cpu'\n",
    "if device != 'cuda':\n",
    "    print(f\"You are using {device}. This is much slower than using \"\n",
    "          \"a CUDA-enabled GPU. If on Colab you can change this by \"\n",
    "          \"clicking Runtime > Change runtime type > GPU.\")\n",
    "\n",
    "model = SentenceTransformer('all-MiniLM-L6-v2', device=device)\n",
    "model"
   ]
  },
  {
   "cell_type": "code",
   "execution_count": 16,
   "metadata": {},
   "outputs": [
    {
     "data": {
      "text/plain": [
       "(384,)"
      ]
     },
     "execution_count": 16,
     "metadata": {},
     "output_type": "execute_result"
    }
   ],
   "source": [
    "input = 'Satan leads mankind astray'\n",
    "\n",
    "xq = model.encode(input)\n",
    "xq.shape"
   ]
  },
  {
   "cell_type": "code",
   "execution_count": 17,
   "metadata": {},
   "outputs": [],
   "source": [
    "_id = '0'\n",
    "metadata = {'text': input}\n",
    "\n",
    "vectors = [(_id, xq, metadata)]"
   ]
  },
  {
   "cell_type": "code",
   "execution_count": 18,
   "metadata": {},
   "outputs": [],
   "source": [
    "from pinecone import Pinecone, ServerlessSpec\n",
    "import api\n",
    "\n",
    "pc = Pinecone(api_key=api.API_KEY)\n",
    "spec = ServerlessSpec(cloud='aws', region='us-east-1')"
   ]
  },
  {
   "cell_type": "code",
   "execution_count": 19,
   "metadata": {},
   "outputs": [],
   "source": [
    "index_name = 'semantic-search'"
   ]
  },
  {
   "cell_type": "code",
   "execution_count": 20,
   "metadata": {},
   "outputs": [
    {
     "data": {
      "text/plain": [
       "{'dimension': 384,\n",
       " 'index_fullness': 0.0,\n",
       " 'namespaces': {'': {'vector_count': 6236}},\n",
       " 'total_vector_count': 6236}"
      ]
     },
     "execution_count": 20,
     "metadata": {},
     "output_type": "execute_result"
    }
   ],
   "source": [
    "import time\n",
    "\n",
    "# check if index already exists (it shouldn't if this is first time)\n",
    "if index_name not in pc.list_indexes().names():\n",
    "    # if does not exist, create index\n",
    "    pc.create_index(\n",
    "        index_name,\n",
    "        dimension=model.get_sentence_embedding_dimension(),\n",
    "        metric='cosine',\n",
    "        spec=spec\n",
    "    )\n",
    "    # wait for index to be initialized\n",
    "    while not pc.describe_index(index_name).status['ready']:\n",
    "        time.sleep(1)\n",
    "\n",
    "# connect to index\n",
    "index = pc.Index(index_name)\n",
    "# view index stats\n",
    "index.describe_index_stats()"
   ]
  },
  {
   "cell_type": "code",
   "execution_count": 21,
   "metadata": {},
   "outputs": [
    {
     "data": {
      "text/plain": [
       "['semantic-search']"
      ]
     },
     "execution_count": 21,
     "metadata": {},
     "output_type": "execute_result"
    }
   ],
   "source": [
    "pc.list_indexes().names()"
   ]
  },
  {
   "cell_type": "code",
   "execution_count": null,
   "metadata": {},
   "outputs": [],
   "source": [
    "from tqdm.auto import tqdm\n",
    "\n",
    "batch_size = 128\n",
    "\n",
    "for i in tqdm(range(0, len(df), batch_size)):\n",
    "    # find end of batch\n",
    "    i_end = min(i+batch_size, len(df))\n",
    "    # create IDs batch\n",
    "    ids = [str(x) for x in range(i, i_end)]\n",
    "    # create metadata batch\n",
    "    metadatas = [{'text': text} for text in df[i:i_end]]\n",
    "    # create embeddings\n",
    "    xc = model.encode(df.loc[i:i_end].to_list())\n",
    "    # create records list for upsert\n",
    "    records = zip(ids, xc, metadatas)\n",
    "    # upsert to Pinecone\n",
    "    index.upsert(vectors=records)\n",
    "\n",
    "    print('batch_upserted', i)\n",
    "\n",
    "# check number of records in the index\n",
    "index.describe_index_stats()"
   ]
  },
  {
   "cell_type": "code",
   "execution_count": 23,
   "metadata": {},
   "outputs": [
    {
     "data": {
      "text/plain": [
       "{'matches': [{'id': '2811',\n",
       "              'metadata': {'text': 'O you who have believed, do not follow the '\n",
       "                                   'footsteps of Satan. And whoever follows '\n",
       "                                   'the footsteps of Satan - indeed, he '\n",
       "                                   'enjoins immorality and wrongdoing. And if '\n",
       "                                   'not for the favor of Allah upon you and '\n",
       "                                   'His mercy, not one of you would have been '\n",
       "                                   'pure, ever, but Allah purifies whom He '\n",
       "                                   'wills, and Allah is Hearing and Knowing.'},\n",
       "              'score': 0.610572815,\n",
       "              'values': []},\n",
       "             {'id': '174',\n",
       "              'metadata': {'text': 'O mankind, eat from whatever is on earth '\n",
       "                                   'that is lawful and good and do not follow '\n",
       "                                   'the footsteps of Satan. Indeed, he is to '\n",
       "                                   'you a clear enemy.'},\n",
       "              'score': 0.607461035,\n",
       "              'values': []},\n",
       "             {'id': '1785',\n",
       "              'metadata': {'text': 'My Lord, indeed they have led astray many '\n",
       "                                   'among the people. So whoever follows me - '\n",
       "                                   'then he is of me; and whoever disobeys me '\n",
       "                                   '- indeed, You are yet Forgiving and '\n",
       "                                   'Merciful.'},\n",
       "              'score': 0.580607712,\n",
       "              'values': []},\n",
       "             {'id': '1139',\n",
       "              'metadata': {'text': 'Whoever Allah sends astray - there is no '\n",
       "                                   'guide for him. And He leaves them in their '\n",
       "                                   'transgression, wandering blindly.'},\n",
       "              'score': 0.574810147,\n",
       "              'values': []},\n",
       "             {'id': '659',\n",
       "              'metadata': {'text': 'Indeed, those who disbelieve and avert '\n",
       "                                   'people from the way of Allah have '\n",
       "                                   'certainly gone far astray.'},\n",
       "              'score': 0.568810403,\n",
       "              'values': []}],\n",
       " 'namespace': '',\n",
       " 'usage': {'read_units': 6}}"
      ]
     },
     "execution_count": 23,
     "metadata": {},
     "output_type": "execute_result"
    }
   ],
   "source": [
    "query = \"Satan leads mankind astray\"\n",
    "\n",
    "# create the query vector\n",
    "xq = model.encode(query).tolist()\n",
    "\n",
    "# now query\n",
    "xc = index.query(vector=xq, top_k=5, include_metadata=True)\n",
    "xc"
   ]
  },
  {
   "cell_type": "code",
   "execution_count": 33,
   "metadata": {},
   "outputs": [
    {
     "name": "stdout",
     "output_type": "stream",
     "text": [
      "<class 'list'>\n"
     ]
    }
   ],
   "source": [
    "from flask import jsonify\n",
    "\n",
    "print(type(xc.get('matches')))"
   ]
  },
  {
   "cell_type": "code",
   "execution_count": 37,
   "metadata": {},
   "outputs": [
    {
     "name": "stdout",
     "output_type": "stream",
     "text": [
      "0.61: O you who have believed, do not follow the footsteps of Satan. And whoever follows the footsteps of Satan - indeed, he enjoins immorality and wrongdoing. And if not for the favor of Allah upon you and His mercy, not one of you would have been pure, ever, but Allah purifies whom He wills, and Allah is Hearing and Knowing.\n",
      "0.61: O mankind, eat from whatever is on earth that is lawful and good and do not follow the footsteps of Satan. Indeed, he is to you a clear enemy.\n",
      "0.58: My Lord, indeed they have led astray many among the people. So whoever follows me - then he is of me; and whoever disobeys me - indeed, You are yet Forgiving and Merciful.\n",
      "0.57: Whoever Allah sends astray - there is no guide for him. And He leaves them in their transgression, wandering blindly.\n",
      "0.57: Indeed, those who disbelieve and avert people from the way of Allah have certainly gone far astray.\n",
      "{'text': 'Indeed, those who disbelieve and avert people from the way of Allah have certainly gone far astray.', 'score': 0.568810403}\n"
     ]
    }
   ],
   "source": [
    "output = {}\n",
    "\n",
    "# Add text and score to final_output\n",
    "for result in xc['matches']:\n",
    "    print(f\"{round(result['score'], 2)}: {result['metadata']['text']}\")"
   ]
  },
  {
   "cell_type": "code",
   "execution_count": null,
   "metadata": {},
   "outputs": [
    {
     "name": "stdout",
     "output_type": "stream",
     "text": [
      "0.45: And the people of the city came rejoicing.\n",
      "0.45: And how many a city which was unjust have We shattered and produced after it another people.\n",
      "0.42: I swear by this city, Makkah -\n",
      "0.4: And there is no city but that We will destroy it before the Day of Resurrection or punish it with a severe punishment. That has ever been in the Register inscribed.\n",
      "0.38: And how many a city have We destroyed that was insolent in its way of living, and those are their dwellings which have not been inhabited after them except briefly. And it is We who were the inheritors.\n"
     ]
    }
   ],
   "source": [
    "query = \"which metropolis has the highest number of people?\"\n",
    "\n",
    "# create the query vector\n",
    "xq = model.encode(query).tolist()\n",
    "\n",
    "# now query\n",
    "xc = index.query(vector=xq, top_k=5, include_metadata=True)\n",
    "for result in xc['matches']:\n",
    "    print(f\"{round(result['score'], 2)}: {result['metadata']['text']}\")"
   ]
  },
  {
   "cell_type": "code",
   "execution_count": null,
   "metadata": {},
   "outputs": [],
   "source": [
    "# pc.delete_index(index_name)"
   ]
  }
 ],
 "metadata": {
  "kernelspec": {
   "display_name": ".venv",
   "language": "python",
   "name": "python3"
  },
  "language_info": {
   "codemirror_mode": {
    "name": "ipython",
    "version": 3
   },
   "file_extension": ".py",
   "mimetype": "text/x-python",
   "name": "python",
   "nbconvert_exporter": "python",
   "pygments_lexer": "ipython3",
   "version": "3.10.2"
  }
 },
 "nbformat": 4,
 "nbformat_minor": 2
}
